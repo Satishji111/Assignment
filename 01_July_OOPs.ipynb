{
 "cells": [
  {
   "cell_type": "markdown",
   "id": "308b2cae",
   "metadata": {},
   "source": [
    "1. What is the primary goal of Object-Oriented Programming (OOP)?\n"
   ]
  },
  {
   "attachments": {},
   "cell_type": "markdown",
   "id": "93ef9420",
   "metadata": {},
   "source": [
    "The primary goal of Object-Oriented Programming (OOP) is to provide a programming paradigm that enables the organization and structuring of code around objects, which are instances of classes. OOP aims to promote modularity, reusability, and maintainability of code by encapsulating data and behavior within objects.\n",
    "The key objectives of OOP can be summarized as follows:\n",
    "\n",
    "Encapsulation: OOP helps organize code by grouping related data and behaviors into objects.Encapsulation allows for data hiding and protection, ensuring that the internal representation and implementation details of an object are hidden from outside access. This promotes security and maintains the integrity of the data. For example, if we were creating a program for a car, we could have a \"Car\" object that holds information about the car's color, model, and speed, as well as actions like starting the engine or stopping the car. \n",
    "\n",
    "Inheritance: With OOP, we can create objects that inherit properties and behaviors from other objects. This means we can make a new object based on an existing one, saving time and effort. For instance, we could create a \"Truck\" object that inherits the properties and behaviors of a \"Vehicle\" object, and then add some truck-specific features.\n",
    "\n",
    "Polymorphism: OOP allows us to treat different objects in a similar way, as long as they share common characteristics. This is called polymorphism. For example, we can have a \"Shape\" object and different objects like \"Circle,\" \"Square,\" and \"Triangle\" that inherit from it. We can then write code that works with any shape object without worrying about its specific type.\n",
    "\n",
    "\n",
    "Abstraction: OOP lets us hide the inner workings of an object and only expose what's necessary. This is called encapsulation. For example, if we have a \"BankAccount\" object, we can hide the details of how the account balance is calculated or how transactions are processed, making the code more secure and easier to understand.\n",
    "\n",
    "\n"
   ]
  },
  {
   "cell_type": "markdown",
   "id": "a7ed8ddb",
   "metadata": {},
   "source": [
    "2. What is an object in Python?\n"
   ]
  },
  {
   "cell_type": "markdown",
   "id": "4f5a139e",
   "metadata": {},
   "source": [
    "In Python, an object is a fundamental concept of object-oriented programming (OOP). An object is an instance of a class, which serves as a blueprint or template for creating objects. In simpler terms, an object is a specific entity that has certain properties (attributes) and can perform actions (methods).\n",
    "When you create an object in Python, you are creating a unique instance of a class. Each object has its own set of attributes, which are variables that store specific values, and methods, which are functions that define the behaviors of the object.\n",
    "\n",
    "ex.)"
   ]
  },
  {
   "cell_type": "code",
   "execution_count": 2,
   "id": "252001cb",
   "metadata": {},
   "outputs": [
    {
     "name": "stdout",
     "output_type": "stream",
     "text": [
      "Alice\n",
      "30\n",
      "Hello, my name is Alice\n",
      "Hello, my name is Bob\n"
     ]
    }
   ],
   "source": [
    "# Define a class called \"Person\"\n",
    "class Person:\n",
    "    def __init__(self, name, age):\n",
    "        self.name = name\n",
    "        self.age = age\n",
    "\n",
    "    def say_hello(self):\n",
    "        print(\"Hello, my name is\", self.name)\n",
    "\n",
    "# Create objects of the class \"Person\"\n",
    "person1 = Person(\"Alice\", 25)\n",
    "person2 = Person(\"Bob\", 30)\n",
    "\n",
    "# Accessing object attributes\n",
    "print(person1.name)  # Output: Alice\n",
    "print(person2.age)   # Output: 30\n",
    "\n",
    "# Calling object methods\n",
    "person1.say_hello() \n",
    "person2.say_hello()  \n"
   ]
  },
  {
   "cell_type": "markdown",
   "id": "49a7369f",
   "metadata": {},
   "source": [
    "3. What is a class in Python?"
   ]
  },
  {
   "cell_type": "markdown",
   "id": "13a23722",
   "metadata": {},
   "source": [
    "In Python, a class is a blueprint or template for creating objects. It defines the structure and behavior that objects of that class will have. A class acts as a blueprint by specifying the attributes (data) and methods (functions) that the objects should possess.\n",
    "\n",
    "Ex.)"
   ]
  },
  {
   "cell_type": "code",
   "execution_count": 4,
   "id": "673020ef",
   "metadata": {},
   "outputs": [
    {
     "name": "stdout",
     "output_type": "stream",
     "text": [
      "Toyota\n",
      "2018\n",
      "The car's engine is started.\n",
      "The car's engine is stopped.\n"
     ]
    }
   ],
   "source": [
    "# Define a class called \"Car\"\n",
    "class Car:\n",
    "    def __init__(self, brand, model, year):\n",
    "        self.brand = brand\n",
    "        self.model = model\n",
    "        self.year = year\n",
    "\n",
    "    def start_engine(self):\n",
    "        print(\"The car's engine is started.\")\n",
    "\n",
    "    def stop_engine(self):\n",
    "        print(\"The car's engine is stopped.\")\n",
    "\n",
    "# Create objects of the class \"Car\"\n",
    "car1 = Car(\"Toyota\", \"Corolla\", 2020)\n",
    "car2 = Car(\"Honda\", \"Civic\", 2018)\n",
    "\n",
    "# Accessing object attributes\n",
    "print(car1.brand)  # Output: Toyota\n",
    "print(car2.year)   # Output: 2018\n",
    "\n",
    "# Calling object methods\n",
    "car1.start_engine() \n",
    "car2.stop_engine()   "
   ]
  },
  {
   "cell_type": "markdown",
   "id": "7bad80e9",
   "metadata": {},
   "source": [
    "4. What are attributes and methods in a class?"
   ]
  },
  {
   "cell_type": "markdown",
   "id": "cfdefdb8",
   "metadata": {},
   "source": [
    "In a class, attributes and methods define the characteristics and behaviors of objects created from that class. Here's a breakdown of attributes and methods in Python:"
   ]
  },
  {
   "cell_type": "markdown",
   "id": "b168913d",
   "metadata": {},
   "source": [
    "Attributes: Attributes are variables that hold data associated with an object. They represent the state or properties of an object. Attributes can store different types of data, such as numbers, strings, or other objects. Each object created from a class has its own set of attribute values.\n",
    "In Python, attributes are typically defined and accessed using the self keyword within methods. The self parameter refers to the specific instance of the object. Attributes can be accessed using dot notation (object.attribute).\n",
    "\n",
    "For Ex.)"
   ]
  },
  {
   "cell_type": "code",
   "execution_count": 6,
   "id": "e5d99476",
   "metadata": {},
   "outputs": [],
   "source": [
    "class Car:\n",
    "    def __init__(self, brand, model, year):\n",
    "        self.brand = brand\n",
    "        self.model = model\n",
    "        self.year = year\n"
   ]
  },
  {
   "cell_type": "markdown",
   "id": "14d1b1de",
   "metadata": {},
   "source": [
    "The brand, model, and year variables are attributes of the Car class."
   ]
  },
  {
   "cell_type": "markdown",
   "id": "3a816252",
   "metadata": {},
   "source": [
    "Methods: Methods are functions defined within a class that define the behaviors or actions that objects can perform. Methods operate on the attributes of an object and can interact with other objects or perform specific tasks."
   ]
  },
  {
   "cell_type": "markdown",
   "id": "2bba8470",
   "metadata": {},
   "source": [
    "Methods are defined using the def keyword within a class, and they typically take the self parameter as the first parameter. The self parameter refers to the instance of the object that the method is being called on.\n",
    "For Ex.)"
   ]
  },
  {
   "cell_type": "code",
   "execution_count": 9,
   "id": "9718420e",
   "metadata": {},
   "outputs": [],
   "source": [
    "class Car:\n",
    "    def start_engine(self):\n",
    "        print(\"The car's engine is started.\")\n",
    "\n",
    "    def stop_engine(self):\n",
    "        print(\"The car's engine is stopped.\")\n"
   ]
  },
  {
   "cell_type": "markdown",
   "id": "e8ef5ac8",
   "metadata": {},
   "source": [
    "The start_engine() and stop_engine() functions are methods of the Car class. "
   ]
  },
  {
   "cell_type": "markdown",
   "id": "baaf2adf",
   "metadata": {},
   "source": [
    "5. What is the difference between class variables and instance variables in Python?"
   ]
  },
  {
   "cell_type": "markdown",
   "id": "abf5f534",
   "metadata": {},
   "source": [
    "Class Variables:\n",
    "\n",
    "1. Class variables are defined within the class but outside of any methods.\n",
    "2. They are shared among all instances (objects) of the class.\n",
    "3. Class variables are accessed using the class name or the instance name.\n",
    "4. Class variables are typically used to store data that is common to all instances of the class.\n",
    "5. They are declared at the class level and have the same value for all objects of that class.\n",
    "6. Class variables are often used to define constants or to maintain shared state among objects.\n",
    "7. Changes made to a class variable will affect all instances of the class.\n",
    "\n",
    "Ex.)"
   ]
  },
  {
   "cell_type": "code",
   "execution_count": 13,
   "id": "19ca8ebb",
   "metadata": {},
   "outputs": [
    {
     "name": "stdout",
     "output_type": "stream",
     "text": [
      "4\n",
      "4\n",
      "6\n",
      "6\n"
     ]
    }
   ],
   "source": [
    "class Car:\n",
    "    wheels = 4   # Class variable\n",
    "\n",
    "    def __init__(self, brand):\n",
    "        self.brand = brand   # Instance variable\n",
    "\n",
    "car1 = Car(\"Toyota\")\n",
    "car2 = Car(\"Honda\")\n",
    "\n",
    "print(car1.wheels)  \n",
    "print(car2.wheels)   \n",
    "\n",
    "Car.wheels = 6   # Modifying the class variable\n",
    "\n",
    "print(car1.wheels)   \n",
    "print(car2.wheels)   \n"
   ]
  },
  {
   "cell_type": "markdown",
   "id": "acfd77b5",
   "metadata": {},
   "source": [
    "Instance Variables:\n",
    "1. Instance variables are specific to each instance (object) of a class.\n",
    "2. They are defined within the methods of a class, typically within the __init__ method.\n",
    "3. Instance variables are accessed using the instance name.\n",
    "4. Each object has its own copy of instance variables, and changes made to one instance variable do not affect others.\n",
    "5. Instance variables hold data that varies from one object to another.\n",
    "6. They are assigned values using the self keyword within the methods of the class.\n",
    "\n",
    "\n",
    "Continuing with the previous example:"
   ]
  },
  {
   "cell_type": "code",
   "execution_count": 14,
   "id": "e46f595d",
   "metadata": {},
   "outputs": [
    {
     "name": "stdout",
     "output_type": "stream",
     "text": [
      "Toyota\n",
      "Honda\n"
     ]
    }
   ],
   "source": [
    "class Car:\n",
    "    def __init__(self, brand):\n",
    "        self.brand = brand   # Instance variable\n",
    "\n",
    "car1 = Car(\"Toyota\")\n",
    "car2 = Car(\"Honda\")\n",
    "\n",
    "print(car1.brand)   \n",
    "print(car2.brand)   \n"
   ]
  },
  {
   "cell_type": "markdown",
   "id": "45c766ab",
   "metadata": {},
   "source": [
    "6. What is the purpose of the self parameter in Python class methods?"
   ]
  },
  {
   "cell_type": "markdown",
   "id": "e5fffbdc",
   "metadata": {},
   "source": [
    "In Python class methods, the self parameter refers to the instance of the class itself. It is a convention to use self as the first parameter name in instance methods, although any other valid variable name can be used. The purpose of the self parameter is to enable methods to access and manipulate the attributes and other methods of the object that the method is called on.\n",
    "\n",
    "Here are the key points regarding the purpose of the self parameter:"
   ]
  },
  {
   "cell_type": "markdown",
   "id": "30e60cfe",
   "metadata": {},
   "source": [
    "1. Accessing instance variables: By using self, methods can access the instance variables (attributes) of the object. This allows methods to retrieve and modify the specific data associated with each object. Without self, methods would not have a reference to the object's attributes.\n",
    "\n",
    "2. Calling other methods: Methods can call other methods within the same class using self. This enables methods to invoke other behaviors of the object and perform complex operations. It helps in code organization and promoting reusability within the class.\n",
    "\n",
    "3. Creating instance variables: Methods can create and assign values to instance variables using self. This allows methods to initialize and modify the state of the object. The self parameter ensures that the changes are made to the specific object rather than creating local variables that exist only within the method.\n",
    "\n",
    "Here's an example to illustrate the usage of self:"
   ]
  },
  {
   "cell_type": "code",
   "execution_count": 15,
   "id": "a858b83c",
   "metadata": {},
   "outputs": [
    {
     "name": "stdout",
     "output_type": "stream",
     "text": [
      "Radius: 5\n",
      "Area: 78.5\n"
     ]
    }
   ],
   "source": [
    "class Circle:\n",
    "    def __init__(self, radius):\n",
    "        self.radius = radius\n",
    "\n",
    "    def calculate_area(self):\n",
    "        return 3.14 * self.radius ** 2\n",
    "\n",
    "    def print_details(self):\n",
    "        print(\"Radius:\", self.radius)\n",
    "        print(\"Area:\", self.calculate_area())\n",
    "\n",
    "circle = Circle(5)\n",
    "circle.print_details()\n"
   ]
  },
  {
   "cell_type": "markdown",
   "id": "d17b6c9a",
   "metadata": {},
   "source": [
    "7. For a library management system, you have to design the \"Book\" class with OOP principles in mind. The “Book” class will have following attributes:\n",
    "a. title: Represents the title of the book.\n",
    "b. author: Represents the author(s) of the book.\n",
    "c. isbn: Represents the ISBN (International Standard Book Number) of the book.\n",
    "d. publication_year: Represents the year of publication of the book.\n",
    "e. available_copies: Represents the number of copies available for checkout.\n",
    "The class will also include the following methods:\n",
    "a. check_out(self): Decrements the available copies by one if there are copies\n",
    "available for checkout.\n",
    "b. return_book(self): Increments the available copies by one when a book is\n",
    "returned.\n",
    "c. display_book_info(self): Displays the information about the book, including its\n",
    "attributes and the number of available copies."
   ]
  },
  {
   "cell_type": "code",
   "execution_count": 19,
   "id": "b9cd7899",
   "metadata": {},
   "outputs": [],
   "source": [
    "class Book:\n",
    "    def __init__(self, title, author, isbn, publication_year, available_copies):\n",
    "        self.title = title\n",
    "        self.author = author\n",
    "        self.isbn = isbn\n",
    "        self.publication_year = publication_year\n",
    "        self.available_copies = available_copies\n",
    "\n",
    "    def check_out(self):\n",
    "        if self.available_copies > 0:\n",
    "            self.available_copies -= 1\n",
    "            print(f\"Book '{self.title}' checked out successfully.\")\n",
    "        else:\n",
    "            print(f\"Sorry, no available copies of '{self.title}'.\")\n",
    "\n",
    "    def return_book(self):\n",
    "        self.available_copies += 1\n",
    "        print(f\"Book '{self.title}' returned successfully.\")\n",
    "\n",
    "    def display_book_info(self):\n",
    "        print(\"Book Information:\")\n",
    "        print(\"Title:\", self.title)\n",
    "        print(\"Author(s):\", self.author)\n",
    "        print(\"ISBN:\", self.isbn)\n",
    "        print(\"Publication Year:\", self.publication_year)\n",
    "        print(\"Available Copies:\", self.available_copies)\n"
   ]
  },
  {
   "cell_type": "markdown",
   "id": "6fe99dcf",
   "metadata": {},
   "source": [
    "Here's an example of how you can use this class:"
   ]
  },
  {
   "cell_type": "code",
   "execution_count": 20,
   "id": "0bd35515",
   "metadata": {},
   "outputs": [
    {
     "name": "stdout",
     "output_type": "stream",
     "text": [
      "Book Information:\n",
      "Title: The Great Gatsby\n",
      "Author(s): F. Scott Fitzgerald\n",
      "ISBN: 978-3-16-148410-0\n",
      "Publication Year: 1925\n",
      "Available Copies: 3\n",
      "Book 'The Great Gatsby' checked out successfully.\n",
      "Book Information:\n",
      "Title: The Great Gatsby\n",
      "Author(s): F. Scott Fitzgerald\n",
      "ISBN: 978-3-16-148410-0\n",
      "Publication Year: 1925\n",
      "Available Copies: 2\n",
      "Book 'The Great Gatsby' returned successfully.\n",
      "Book Information:\n",
      "Title: The Great Gatsby\n",
      "Author(s): F. Scott Fitzgerald\n",
      "ISBN: 978-3-16-148410-0\n",
      "Publication Year: 1925\n",
      "Available Copies: 3\n"
     ]
    }
   ],
   "source": [
    "# Create a book object\n",
    "book1 = Book(\"The Great Gatsby\", \"F. Scott Fitzgerald\", \"978-3-16-148410-0\", 1925, 3)\n",
    "# Display book information\n",
    "book1.display_book_info()\n",
    "\n",
    "# Check out the book\n",
    "book1.check_out()\n",
    "\n",
    "# Display updated information\n",
    "book1.display_book_info()\n",
    "\n",
    "# Return the book\n",
    "book1.return_book()\n",
    "\n",
    "# Display updated information\n",
    "book1.display_book_info()"
   ]
  },
  {
   "cell_type": "markdown",
   "id": "d509f4c9",
   "metadata": {},
   "source": [
    "8. For a ticket booking system, you have to design the \"Ticket\" class with OOP principles in mind. The “Ticket” class should have the following attributes:\n",
    "a. ticket_id: Represents the unique identifier for the ticket.\n",
    "b. event_name: Represents the name of the event.\n",
    "c. event_date: Represents the date of the event.\n",
    "d. venue: Represents the venue of the event.\n",
    "e. seat_number: Represents the seat number associated with the ticket.\n",
    "f. price: Represents the price of the ticket.\n",
    "g. is_reserved: Represents the reservation status of the ticket.\n",
    "The class also includes the following methods:\n",
    "a. reserve_ticket(self): Marks the ticket as reserved if it is not already reserved.\n",
    "b. cancel_reservation(self): Cancels the reservation of the ticket if it is already\n",
    "reserved.\n",
    "c. display_ticket_info(self): Displays the information about the ticket, including its\n",
    "attributes and reservation status."
   ]
  },
  {
   "cell_type": "code",
   "execution_count": 21,
   "id": "774a5775",
   "metadata": {},
   "outputs": [],
   "source": [
    "class Ticket:\n",
    "    def __init__(self, ticket_id, event_name, event_date, venue, seat_number, price):\n",
    "        self.ticket_id = ticket_id\n",
    "        self.event_name = event_name\n",
    "        self.event_date = event_date\n",
    "        self.venue = venue\n",
    "        self.seat_number = seat_number\n",
    "        self.price = price\n",
    "        self.is_reserved = False\n",
    "\n",
    "    def reserve_ticket(self):\n",
    "        if not self.is_reserved:\n",
    "            self.is_reserved = True\n",
    "            print(f\"Ticket {self.ticket_id} reserved successfully.\")\n",
    "        else:\n",
    "            print(f\"Ticket {self.ticket_id} is already reserved.\")\n",
    "\n",
    "    def cancel_reservation(self):\n",
    "        if self.is_reserved:\n",
    "            self.is_reserved = False\n",
    "            print(f\"Reservation for Ticket {self.ticket_id} canceled successfully.\")\n",
    "        else:\n",
    "            print(f\"Ticket {self.ticket_id} is not reserved.\")\n",
    "\n",
    "    def display_ticket_info(self):\n",
    "        print(\"Ticket Information:\")\n",
    "        print(\"Ticket ID:\", self.ticket_id)\n",
    "        print(\"Event Name:\", self.event_name)\n",
    "        print(\"Event Date:\", self.event_date)\n",
    "        print(\"Venue:\", self.venue)\n",
    "        print(\"Seat Number:\", self.seat_number)\n",
    "        print(\"Price:\", self.price)\n",
    "        print(\"Reservation Status:\", \"Reserved\" if self.is_reserved else \"Not Reserved\")\n"
   ]
  },
  {
   "cell_type": "code",
   "execution_count": 22,
   "id": "57524ada",
   "metadata": {},
   "outputs": [
    {
     "name": "stdout",
     "output_type": "stream",
     "text": [
      "Ticket Information:\n",
      "Ticket ID: T001\n",
      "Event Name: Music Concert\n",
      "Event Date: 2023-07-15\n",
      "Venue: Arena Stadium\n",
      "Seat Number: A5\n",
      "Price: 50.0\n",
      "Reservation Status: Not Reserved\n",
      "Ticket T001 reserved successfully.\n",
      "Ticket Information:\n",
      "Ticket ID: T001\n",
      "Event Name: Music Concert\n",
      "Event Date: 2023-07-15\n",
      "Venue: Arena Stadium\n",
      "Seat Number: A5\n",
      "Price: 50.0\n",
      "Reservation Status: Reserved\n",
      "Reservation for Ticket T001 canceled successfully.\n",
      "Ticket Information:\n",
      "Ticket ID: T001\n",
      "Event Name: Music Concert\n",
      "Event Date: 2023-07-15\n",
      "Venue: Arena Stadium\n",
      "Seat Number: A5\n",
      "Price: 50.0\n",
      "Reservation Status: Not Reserved\n"
     ]
    }
   ],
   "source": [
    "# Create a ticket object\n",
    "ticket1 = Ticket(\"T001\", \"Music Concert\", \"2023-07-15\", \"Arena Stadium\", \"A5\", 50.00)\n",
    "\n",
    "# Display ticket information\n",
    "ticket1.display_ticket_info()\n",
    "\n",
    "# Reserve the ticket\n",
    "ticket1.reserve_ticket()\n",
    "\n",
    "# Display updated information\n",
    "ticket1.display_ticket_info()\n",
    "\n",
    "# Cancel the reservation\n",
    "ticket1.cancel_reservation()\n",
    "\n",
    "# Display updated information\n",
    "ticket1.display_ticket_info()"
   ]
  },
  {
   "cell_type": "markdown",
   "id": "c517ea48",
   "metadata": {},
   "source": [
    "9. You are creating a shopping cart for an e-commerce website. Using OOP to model the \"ShoppingCart\" functionality the class should contain following attributes and\n",
    "methods:\n",
    "a. items: Represents the list of items in the shopping cart.\n",
    "The class also includes the following methods:\n",
    "a. add_item(self, item): Adds an item to the shopping cart by appending it to the\n",
    "list of items.\n",
    "b. remove_item(self, item): Removes an item from the shopping cart if it exists in\n",
    "the list.\n",
    "c. view_cart(self): Displays the items currently present in the shopping cart.\n",
    "d. clear_cart(self): Clears all items from the shopping cart by reassigning an\n",
    "empty list to the items attribute."
   ]
  },
  {
   "cell_type": "code",
   "execution_count": 24,
   "id": "6675acaf",
   "metadata": {},
   "outputs": [],
   "source": [
    "class ShoppingCart:\n",
    "    def __init__(self):\n",
    "        self.items = []\n",
    "\n",
    "    def add_item(self, item):\n",
    "        self.items.append(item)\n",
    "        print(f\"Item '{item}' added to the shopping cart.\")\n",
    "\n",
    "    def remove_item(self, item):\n",
    "        if item in self.items:\n",
    "            self.items.remove(item)\n",
    "            print(f\"Item '{item}' removed from the shopping cart.\")\n",
    "        else:\n",
    "            print(f\"Item '{item}' is not in the shopping cart.\")\n",
    "\n",
    "    def view_cart(self):\n",
    "        print(\"Items in the shopping cart:\")\n",
    "        for item in self.items:\n",
    "            print(\"-\", item)\n",
    "\n",
    "    def clear_cart(self):\n",
    "        self.items = []\n",
    "        print(\"Shopping cart cleared successfully.\")\n"
   ]
  },
  {
   "cell_type": "markdown",
   "id": "25d0cc68",
   "metadata": {},
   "source": [
    "Here's an example of how you can use this class:"
   ]
  },
  {
   "cell_type": "code",
   "execution_count": 25,
   "id": "1da96831",
   "metadata": {},
   "outputs": [
    {
     "name": "stdout",
     "output_type": "stream",
     "text": [
      "Item 'Book' added to the shopping cart.\n",
      "Item 'Shoes' added to the shopping cart.\n",
      "Item 'T-shirt' added to the shopping cart.\n",
      "Items in the shopping cart:\n",
      "- Book\n",
      "- Shoes\n",
      "- T-shirt\n",
      "Item 'Shoes' removed from the shopping cart.\n",
      "Items in the shopping cart:\n",
      "- Book\n",
      "- T-shirt\n",
      "Shopping cart cleared successfully.\n",
      "Items in the shopping cart:\n"
     ]
    }
   ],
   "source": [
    "# Create a shopping cart object\n",
    "cart = ShoppingCart()\n",
    "\n",
    "# Add items to the cart\n",
    "cart.add_item(\"Book\")\n",
    "cart.add_item(\"Shoes\")\n",
    "cart.add_item(\"T-shirt\")\n",
    "\n",
    "# View the cart\n",
    "cart.view_cart()\n",
    "\n",
    "# Remove an item from the cart\n",
    "cart.remove_item(\"Shoes\")\n",
    "\n",
    "# View the updated cart\n",
    "cart.view_cart()\n",
    "\n",
    "# Clear the cart\n",
    "cart.clear_cart()\n",
    "\n",
    "# View the cleared cart\n",
    "cart.view_cart()\n"
   ]
  },
  {
   "cell_type": "markdown",
   "id": "8260834b",
   "metadata": {},
   "source": [
    "10. Imagine a school management system. You have to design the \"Student\" class using OOP concepts.The “Student” class has the following attributes:\n",
    "a. name: Represents the name of the student.\n",
    "b. age: Represents the age of the student.\n",
    "c. grade: Represents the grade or class of the student.\n",
    "d. student_id: Represents the unique identifier for the student.\n",
    "e. attendance: Represents the attendance record of the student.\n",
    "The class should also include the following methods:\n",
    "a. update_attendance(self, date, status): Updates the attendance record of the\n",
    "student for a given date with the provided status (e.g., present or absent).\n",
    "b. get_attendance(self): Returns the attendance record of the student.\n",
    "c. get_average_attendance(self): Calculates and returns the average\n",
    "attendance percentage of the student based on their attendance record.\n"
   ]
  },
  {
   "cell_type": "code",
   "execution_count": 26,
   "id": "01634025",
   "metadata": {},
   "outputs": [],
   "source": [
    "class Student:\n",
    "    def __init__(self, name, age, grade, student_id):\n",
    "        self.name = name\n",
    "        self.age = age\n",
    "        self.grade = grade\n",
    "        self.student_id = student_id\n",
    "        self.attendance = {}\n",
    "\n",
    "    def update_attendance(self, date, status):\n",
    "        self.attendance[date] = status\n",
    "        print(f\"Attendance updated for {date}: {status}\")\n",
    "\n",
    "    def get_attendance(self):\n",
    "        return self.attendance\n",
    "\n",
    "    def get_average_attendance(self):\n",
    "        total_days = len(self.attendance)\n",
    "        present_days = list(self.attendance.values()).count(\"present\")\n",
    "        attendance_percentage = (present_days / total_days) * 100 if total_days > 0 else 0\n",
    "        return attendance_percentage\n"
   ]
  },
  {
   "cell_type": "markdown",
   "id": "2732d491",
   "metadata": {},
   "source": [
    "Here's an example of how you can use this class:"
   ]
  },
  {
   "cell_type": "code",
   "execution_count": 27,
   "id": "7ce843f7",
   "metadata": {},
   "outputs": [
    {
     "name": "stdout",
     "output_type": "stream",
     "text": [
      "Attendance updated for 2023-07-01: present\n",
      "Attendance updated for 2023-07-02: present\n",
      "Attendance updated for 2023-07-03: absent\n",
      "Attendance record: {'2023-07-01': 'present', '2023-07-02': 'present', '2023-07-03': 'absent'}\n",
      "Average attendance: 66.66666666666666 %\n"
     ]
    }
   ],
   "source": [
    "# Create a student object\n",
    "student1 = Student(\"Alice\", 15, \"10th grade\", \"S001\")\n",
    "\n",
    "# Update attendance\n",
    "student1.update_attendance(\"2023-07-01\", \"present\")\n",
    "student1.update_attendance(\"2023-07-02\", \"present\")\n",
    "student1.update_attendance(\"2023-07-03\", \"absent\")\n",
    "\n",
    "# Get attendance record\n",
    "attendance_record = student1.get_attendance()\n",
    "print(\"Attendance record:\", attendance_record)\n",
    "\n",
    "# Get average attendance percentage\n",
    "average_attendance = student1.get_average_attendance()\n",
    "print(\"Average attendance:\", average_attendance, \"%\")\n"
   ]
  },
  {
   "cell_type": "code",
   "execution_count": null,
   "id": "d1e131aa",
   "metadata": {},
   "outputs": [],
   "source": []
  }
 ],
 "metadata": {
  "kernelspec": {
   "display_name": "Python 3 (ipykernel)",
   "language": "python",
   "name": "python3"
  },
  "language_info": {
   "codemirror_mode": {
    "name": "ipython",
    "version": 3
   },
   "file_extension": ".py",
   "mimetype": "text/x-python",
   "name": "python",
   "nbconvert_exporter": "python",
   "pygments_lexer": "ipython3",
   "version": "3.9.12"
  }
 },
 "nbformat": 4,
 "nbformat_minor": 5
}
