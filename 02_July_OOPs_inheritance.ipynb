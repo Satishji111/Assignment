{
 "cells": [
  {
   "cell_type": "markdown",
   "id": "799be54e",
   "metadata": {},
   "source": [
    "1. Explain what inheritance is in object-oriented programming and why it is used."
   ]
  },
  {
   "cell_type": "markdown",
   "id": "dd1b7cc6",
   "metadata": {},
   "source": [
    "Inheritance is a fundamental concept in object-oriented programming (OOP) that allows one class to inherit properties and behaviors from another class. It is a mechanism by which a new class, called a subclass or derived class, can acquire the attributes and methods of an existing class, called a superclass or base class.\n",
    "\n",
    "Inheritance is used in OOP for several reasons:"
   ]
  },
  {
   "cell_type": "markdown",
   "id": "f486e009",
   "metadata": {},
   "source": [
    "1. Code Reusability:\n",
    "Inheritance promotes code reuse by allowing the subclass to inherit and reuse the attributes and methods of the superclass. Instead of rewriting the same code in multiple classes, common characteristics and behaviors can be defined in a superclass, and subclasses can inherit and extend upon them. This reduces code duplication, improves code organization, and saves development time.\n",
    "2. Modularity and Extensibility:\n",
    " Inheritance facilitates modular design and extensibility of code. With inheritance, you can create a hierarchy of related classes, where each subclass specializes or adds specific features to the superclass. New functionality can be added to the system by creating new subclasses without modifying the existing code in the superclass. This makes the code more flexible, adaptable, and scalable.\n",
    " 3. Polymorphism: \n",
    "  Inheritance enables polymorphism, which is the ability of objects of different classes to be treated uniformly through their common superclass. Polymorphism allows objects to be processed in a generic way, regardless of their specific type. By relying on the common interface or superclass, you can write code that operates on a collection of objects, and each object can exhibit its own behavior based on its specific class implementation.\n",
    " 4. Code Organization and Abstraction:\n",
    "  Inheritance helps in organizing code by creating a hierarchical structure of classes based on their relationships. It provides a clear and logical structure to the codebase, making it easier to understand, maintain, and debug. Inheritance also facilitates abstraction, which focuses on capturing the essential features and behavior of an object in a superclass, while hiding unnecessary implementation details. Abstraction allows for a simplified and more intuitive programming interface.\n",
    " 5. Specialization and Specificity:\n",
    " Inheritance allows for specialization and customization of classes. Subclasses can inherit properties and methods from a superclass and add their own unique characteristics or override existing behaviors to suit their specific needs. This promotes flexibility in designing class hierarchies to represent real-world concepts and supports the principle of \"is-a\" relationships."
   ]
  },
  {
   "cell_type": "markdown",
   "id": "de65e822",
   "metadata": {},
   "source": [
    "2. Discuss the concept of single inheritance and multiple inheritance, highlighting their differences and advantages.\n"
   ]
  },
  {
   "cell_type": "markdown",
   "id": "341ccd21",
   "metadata": {},
   "source": [
    "Single Inheritance:\n",
    "Single inheritance refers to the concept where a class can inherit attributes and behaviors from a single superclass or base class. A class can have only one immediate superclass. The subclass inherits all the members (attributes and methods) of its superclass and can add or modify them as needed.\n",
    "\n",
    "Advantages of Single Inheritance:\n",
    "1. Simplicity: \n",
    "Single inheritance provides a simpler and more straightforward class hierarchy. There is a clear one-to-one relationship between the subclass and its superclass, making the code easier to understand, maintain, and debug.\n",
    "2. Code Organization:\n",
    "Single inheritance promotes better code organization by keeping the class hierarchy less complex. It allows for a focused and well-defined inheritance relationship between two classes, providing a clear structure to the codebase.\n",
    "3. Reduced Complexity:\n",
    "Single inheritance helps in reducing the complexity of class interactions and potential conflicts. Since there is only one immediate superclass, there is less chance for conflicts arising from conflicting attributes or method names."
   ]
  },
  {
   "cell_type": "markdown",
   "id": "c680a30c",
   "metadata": {},
   "source": [
    "Multiple Inheritance:\n",
    "Multiple inheritance allows a class to inherit attributes and behaviors from multiple superclasses or base classes. In this approach, a class can have multiple immediate superclasses, and it inherits members from all of them. This means that the class combines and inherits the characteristics of multiple classes.\n",
    "\n",
    "Advantages of Multiple Inheritance:\n",
    "1. Code Reusability:\n",
    "Multiple inheritance enables greater code reuse by inheriting from multiple classes. It allows a class to inherit attributes and behaviors from different sources, promoting modularity and avoiding code duplication.\n",
    "2. Flexibility:\n",
    "Multiple inheritance provides greater flexibility in designing class hierarchies. It allows for more complex relationships between classes, as a class can exhibit characteristics and behaviors from multiple domains or aspects of the problem domain.\n",
    "3. Polymorphism and Specialization:\n",
    "Multiple inheritance supports polymorphism and specialization by allowing a class to inherit and combine features from multiple superclasses. It enables objects to exhibit different behaviors based on their specific combination of inherited characteristics.\n",
    "4. Expressiveness:\n",
    " Multiple inheritance can provide a more expressive and intuitive way to model complex relationships between classes. It allows for a direct representation of \"is-a\" relationships involving multiple classes, resulting in a more natural and readable code."
   ]
  },
  {
   "cell_type": "markdown",
   "id": "bbf9951b",
   "metadata": {},
   "source": [
    "3. Explain the terms \"base class\" and \"derived class\" in the context of inheritance.\n"
   ]
  },
  {
   "cell_type": "markdown",
   "id": "f3dcaa7a",
   "metadata": {},
   "source": [
    "1. Base Class:\n",
    "A base class, also known as a superclass or parent class, is the class that is being inherited from. It serves as the starting point or template from which another class derives its attributes and behaviors. The base class defines common characteristics and functionalities that can be shared by multiple derived classes."
   ]
  },
  {
   "cell_type": "markdown",
   "id": "0da7a9a8",
   "metadata": {},
   "source": [
    "For example, consider a base class called Animal, which defines attributes and methods common to all animals:"
   ]
  },
  {
   "cell_type": "code",
   "execution_count": 5,
   "id": "f01b1df8",
   "metadata": {},
   "outputs": [],
   "source": [
    "class Animal:\n",
    "    def __init__(self, name):\n",
    "        self.name = name\n",
    "\n",
    "    def eat(self):\n",
    "        print(f\"{self.name} is eating.\")\n",
    "\n",
    "    def sleep(self):\n",
    "        print(f\"{self.name} is sleeping.\")\n"
   ]
  },
  {
   "cell_type": "markdown",
   "id": "4789a9f2",
   "metadata": {},
   "source": [
    "2. Derived Class:\n",
    "A derived class, also known as a subclass or child class, is the class that inherits attributes and behaviors from the base class. The derived class extends or specializes the base class by adding its own unique attributes and behaviors, or by modifying the inherited ones.\n",
    "\n",
    "To create a derived class, you specify the base class name in parentheses after the derived class name during class definition. The derived class can then access and utilize the attributes and methods of the base class."
   ]
  },
  {
   "cell_type": "markdown",
   "id": "f48e1ba4",
   "metadata": {},
   "source": [
    "Continuing with the previous example, let's create a derived class called Dog that inherits from the Animal base class:"
   ]
  },
  {
   "cell_type": "code",
   "execution_count": 6,
   "id": "42a66864",
   "metadata": {},
   "outputs": [],
   "source": [
    "class Dog(Animal):\n",
    "    def bark(self):\n",
    "        print(f\"{self.name} is barking.\")\n",
    "\n",
    "    def sleep(self):  # Override the sleep method\n",
    "        print(f\"{self.name} is sleeping like a dog.\")\n"
   ]
  },
  {
   "cell_type": "code",
   "execution_count": 9,
   "id": "b77a0a69",
   "metadata": {},
   "outputs": [
    {
     "name": "stdout",
     "output_type": "stream",
     "text": [
      "tommy is sleeping like a dog.\n"
     ]
    }
   ],
   "source": [
    "Tommy = Dog(\"tommy\")\n",
    "Result=Tommy.sleep()"
   ]
  },
  {
   "cell_type": "markdown",
   "id": "4aded9dd",
   "metadata": {},
   "source": [
    "4. What is the significance of the \"protected\" access modifier in inheritance? How does it differ from \"private\" and \"public\" modifiers?\n"
   ]
  },
  {
   "cell_type": "markdown",
   "id": "4a974fcd",
   "metadata": {},
   "source": [
    "\n",
    "In object-oriented programming, the access modifiers (public, protected, and private) control the visibility and accessibility of class members (attributes and methods) from other classes. The significance of the \"protected\" access modifier in inheritance lies in its intermediate level of visibility and its specific usage within the inheritance hierarchy."
   ]
  },
  {
   "cell_type": "markdown",
   "id": "b6eecf6d",
   "metadata": {},
   "source": [
    "Public Access Modifier:\n",
    "1. Public members are accessible from anywhere, both within the class and from external classes.\n",
    "2. They have no restrictions on accessibility, and any class or object can access public members directly.\n",
    "3. Public members are denoted by the public keyword.\n",
    "4. Example: public attribute, public method()"
   ]
  },
  {
   "cell_type": "markdown",
   "id": "86437ce7",
   "metadata": {},
   "source": [
    "Private Access Modifier:\n",
    "1. Private members are only accessible within the class where they are defined.\n",
    "2. They are not accessible from outside the class, including derived classes (subclasses) in inheritance.\n",
    "3. Private members are denoted by the private keyword.\n",
    "4. Example: private attribute, private method()"
   ]
  },
  {
   "cell_type": "markdown",
   "id": "47f95d13",
   "metadata": {},
   "source": [
    "Protected Access Modifier:\n",
    "1. Protected members are accessible within the class where they are defined and in derived classes (subclasses) that inherit from the base class.\n",
    "2. Protected members are not accessible from outside the class hierarchy, meaning they cannot be accessed by unrelated classes.\n",
    "3. Protected members are denoted by the protected keyword.\n",
    "4. Example: protected attribute, protected method()"
   ]
  },
  {
   "cell_type": "markdown",
   "id": "5cd47974",
   "metadata": {},
   "source": [
    "5. What is the purpose of the \"super\" keyword in inheritance? Provide an example.\n"
   ]
  },
  {
   "cell_type": "markdown",
   "id": "84fac414",
   "metadata": {},
   "source": [
    "In inheritance, the super keyword in Python is used to refer to the superclass (or base class) from within a subclass. It allows the subclass to access and invoke methods and attributes of its superclass. The super keyword is primarily used to initialize the superclass in the subclass's constructor or to call overridden methods in the superclass."
   ]
  },
  {
   "cell_type": "markdown",
   "id": "60b67231",
   "metadata": {},
   "source": [
    "The purpose of the super keyword can be summarized as follows:"
   ]
  },
  {
   "cell_type": "markdown",
   "id": "58d05396",
   "metadata": {},
   "source": [
    "1. Initializing the Superclass: \n",
    "When defining a subclass, the super keyword is commonly used in the __init__ method to initialize the superclass. This ensures that the superclass's initialization code is executed before the subclass-specific initialization. It allows the subclass to inherit and utilize the attributes and behaviors defined in the superclass.\n",
    "\n",
    "2. Invoking Superclass Methods:\n",
    "The super keyword can be used to invoke methods defined in the superclass. This is especially useful when the subclass overrides a method from the superclass but still needs to access and utilize the original implementation from the superclass."
   ]
  },
  {
   "cell_type": "markdown",
   "id": "d795488f",
   "metadata": {},
   "source": [
    "Here's an example to illustrate the usage of the super keyword:"
   ]
  },
  {
   "cell_type": "code",
   "execution_count": 10,
   "id": "92acc7a1",
   "metadata": {},
   "outputs": [
    {
     "name": "stdout",
     "output_type": "stream",
     "text": [
      "Engine started.\n",
      "Toyota Corolla's engine started.\n"
     ]
    }
   ],
   "source": [
    "class Vehicle:\n",
    "    def __init__(self, brand):\n",
    "        self.brand = brand\n",
    "\n",
    "    def start_engine(self):\n",
    "        print(\"Engine started.\")\n",
    "\n",
    "\n",
    "class Car(Vehicle):\n",
    "    def __init__(self, brand, model):\n",
    "        super().__init__(brand)\n",
    "        self.model = model\n",
    "\n",
    "    def start_engine(self):\n",
    "        super().start_engine()\n",
    "        print(f\"{self.brand} {self.model}'s engine started.\")\n",
    "\n",
    "\n",
    "car = Car(\"Toyota\", \"Corolla\")\n",
    "car.start_engine()"
   ]
  },
  {
   "cell_type": "markdown",
   "id": "35f25aa7",
   "metadata": {},
   "source": [
    "6. Create a base class called \"Vehicle\" with attributes like \"make\", \"model\", and \"year\". Then, create a derived class called \"Car\" that inherits from \"Vehicle\" and adds an attribute called \"fuel_type\". Implement appropriate methods in both classes.\n"
   ]
  },
  {
   "cell_type": "code",
   "execution_count": 12,
   "id": "4e783c52",
   "metadata": {},
   "outputs": [
    {
     "name": "stdout",
     "output_type": "stream",
     "text": [
      "Vehicle Information:\n",
      "Make: Toyota\n",
      "Model: Corolla\n",
      "Year: 2022\n",
      "Fuel Type: Petrol\n",
      "Engine started.\n",
      "Car refueled.\n",
      "Engine stopped.\n"
     ]
    }
   ],
   "source": [
    "class Vehicle:\n",
    "    def __init__(self, make, model, year):\n",
    "        self.make = make\n",
    "        self.model = model\n",
    "        self.year = year\n",
    "\n",
    "    def start(self):\n",
    "        print(\"Engine started.\")\n",
    "\n",
    "    def stop(self):\n",
    "        print(\"Engine stopped.\")\n",
    "\n",
    "    def display_info(self):\n",
    "        print(\"Vehicle Information:\")\n",
    "        print(\"Make:\", self.make)\n",
    "        print(\"Model:\", self.model)\n",
    "        print(\"Year:\", self.year)\n",
    "\n",
    "\n",
    "class Car(Vehicle):\n",
    "    def __init__(self, make, model, year, fuel_type):\n",
    "        super().__init__(make, model, year)\n",
    "        self.fuel_type = fuel_type\n",
    "\n",
    "    def refuel(self):\n",
    "        print(\"Car refueled.\")\n",
    "\n",
    "    def display_info(self):\n",
    "        super().display_info()\n",
    "        print(\"Fuel Type:\", self.fuel_type)\n",
    "\n",
    "\n",
    "# Create a Car object\n",
    "car = Car(\"Toyota\", \"Corolla\", 2022, \"Petrol\")\n",
    "\n",
    "# Access attributes and methods from the base class\n",
    "car.display_info()\n",
    "car.start()\n",
    "\n",
    "# Access attributes and methods from the derived class\n",
    "car.refuel()\n",
    "car.stop()\n"
   ]
  },
  {
   "cell_type": "markdown",
   "id": "263f3fad",
   "metadata": {},
   "source": [
    "7. Create a base class called \"Employee\" with attributes like \"name\" and \"salary.\" Derive two classes, \"Manager\" and \"Developer,\" from \"Employee.\" Add an additional attribute called \"department\" for the \"Manager\" class and \"programming_language\" for the \"Developer\" class.\n"
   ]
  },
  {
   "cell_type": "code",
   "execution_count": 13,
   "id": "9817427a",
   "metadata": {},
   "outputs": [
    {
     "name": "stdout",
     "output_type": "stream",
     "text": [
      "Employee Information:\n",
      "Name: John Doe\n",
      "Salary: 5000\n",
      "Department: Sales\n",
      "\n",
      "Employee Information:\n",
      "Name: Jane Smith\n",
      "Salary: 4000\n",
      "Programming Language: Python\n"
     ]
    }
   ],
   "source": [
    "class Employee:\n",
    "    def __init__(self, name, salary):\n",
    "        self.name = name\n",
    "        self.salary = salary\n",
    "\n",
    "    def display_info(self):\n",
    "        print(\"Employee Information:\")\n",
    "        print(\"Name:\", self.name)\n",
    "        print(\"Salary:\", self.salary)\n",
    "\n",
    "\n",
    "class Manager(Employee):\n",
    "    def __init__(self, name, salary, department):\n",
    "        super().__init__(name, salary)\n",
    "        self.department = department\n",
    "\n",
    "    def display_info(self):\n",
    "        super().display_info()\n",
    "        print(\"Department:\", self.department)\n",
    "\n",
    "\n",
    "class Developer(Employee):\n",
    "    def __init__(self, name, salary, programming_language):\n",
    "        super().__init__(name, salary)\n",
    "        self.programming_language = programming_language\n",
    "\n",
    "    def display_info(self):\n",
    "        super().display_info()\n",
    "        print(\"Programming Language:\", self.programming_language)\n",
    "\n",
    "\n",
    "# Create Manager and Developer objects\n",
    "manager = Manager(\"John Doe\", 5000, \"Sales\")\n",
    "developer = Developer(\"Jane Smith\", 4000, \"Python\")\n",
    "\n",
    "# Display information for Manager and Developer\n",
    "manager.display_info()\n",
    "print()\n",
    "developer.display_info()\n"
   ]
  },
  {
   "cell_type": "markdown",
   "id": "7304c637",
   "metadata": {},
   "source": [
    "8. Design a base class called \"Shape\" with attributes like \"colour\" and \"border_width.\" Create derived classes, \"Rectangle\" and \"Circle,\" that inherit from \"Shape\" and add specific attributes like \"length\" and \"width\" for the \"Rectangle\" class and \"radius\" for the \"Circle\" class."
   ]
  },
  {
   "cell_type": "code",
   "execution_count": 14,
   "id": "e6f93b3c",
   "metadata": {},
   "outputs": [
    {
     "name": "stdout",
     "output_type": "stream",
     "text": [
      "Shape Information:\n",
      "Colour: Red\n",
      "Border Width: 2\n",
      "Length: 10\n",
      "Width: 5\n",
      "\n",
      "Shape Information:\n",
      "Colour: Blue\n",
      "Border Width: 1\n",
      "Radius: 7\n"
     ]
    }
   ],
   "source": [
    "class Shape:\n",
    "    def __init__(self, colour, border_width):\n",
    "        self.colour = colour\n",
    "        self.border_width = border_width\n",
    "\n",
    "    def display_info(self):\n",
    "        print(\"Shape Information:\")\n",
    "        print(\"Colour:\", self.colour)\n",
    "        print(\"Border Width:\", self.border_width)\n",
    "\n",
    "\n",
    "class Rectangle(Shape):\n",
    "    def __init__(self, colour, border_width, length, width):\n",
    "        super().__init__(colour, border_width)\n",
    "        self.length = length\n",
    "        self.width = width\n",
    "\n",
    "    def display_info(self):\n",
    "        super().display_info()\n",
    "        print(\"Length:\", self.length)\n",
    "        print(\"Width:\", self.width)\n",
    "\n",
    "\n",
    "class Circle(Shape):\n",
    "    def __init__(self, colour, border_width, radius):\n",
    "        super().__init__(colour, border_width)\n",
    "        self.radius = radius\n",
    "\n",
    "    def display_info(self):\n",
    "        super().display_info()\n",
    "        print(\"Radius:\", self.radius)\n",
    "\n",
    "\n",
    "# Create Rectangle and Circle objects\n",
    "rectangle = Rectangle(\"Red\", 2, 10, 5)\n",
    "circle = Circle(\"Blue\", 1, 7)\n",
    "\n",
    "# Display information for Rectangle and Circle\n",
    "rectangle.display_info()\n",
    "print()\n",
    "circle.display_info()\n"
   ]
  },
  {
   "cell_type": "markdown",
   "id": "2eda54f0",
   "metadata": {},
   "source": [
    "9. Create a base class called \"Device\" with attributes like \"brand\" and \"model.\" Derive two classes, \"Phone\" and \"Tablet,\" from \"Device.\" Add specific attributes like \"screen_size\" for the \"Phone\" class and \"battery_capacity\" for the \"Tablet\" class.\n"
   ]
  },
  {
   "cell_type": "code",
   "execution_count": 15,
   "id": "27198897",
   "metadata": {},
   "outputs": [
    {
     "name": "stdout",
     "output_type": "stream",
     "text": [
      "Device Information:\n",
      "Brand: Apple\n",
      "Model: iPhone 12\n",
      "Screen Size: 6.1 inches\n",
      "\n",
      "Device Information:\n",
      "Brand: Samsung\n",
      "Model: Galaxy Tab S7\n",
      "Battery Capacity: 8000 mAh\n"
     ]
    }
   ],
   "source": [
    "class Device:\n",
    "    def __init__(self, brand, model):\n",
    "        self.brand = brand\n",
    "        self.model = model\n",
    "\n",
    "    def display_info(self):\n",
    "        print(\"Device Information:\")\n",
    "        print(\"Brand:\", self.brand)\n",
    "        print(\"Model:\", self.model)\n",
    "\n",
    "\n",
    "class Phone(Device):\n",
    "    def __init__(self, brand, model, screen_size):\n",
    "        super().__init__(brand, model)\n",
    "        self.screen_size = screen_size\n",
    "\n",
    "    def display_info(self):\n",
    "        super().display_info()\n",
    "        print(\"Screen Size:\", self.screen_size)\n",
    "\n",
    "\n",
    "class Tablet(Device):\n",
    "    def __init__(self, brand, model, battery_capacity):\n",
    "        super().__init__(brand, model)\n",
    "        self.battery_capacity = battery_capacity\n",
    "\n",
    "    def display_info(self):\n",
    "        super().display_info()\n",
    "        print(\"Battery Capacity:\", self.battery_capacity)\n",
    "\n",
    "\n",
    "# Create Phone and Tablet objects\n",
    "phone = Phone(\"Apple\", \"iPhone 12\", \"6.1 inches\")\n",
    "tablet = Tablet(\"Samsung\", \"Galaxy Tab S7\", \"8000 mAh\")\n",
    "\n",
    "# Display information for Phone and Tablet\n",
    "phone.display_info()\n",
    "print()\n",
    "tablet.display_info()\n"
   ]
  },
  {
   "cell_type": "markdown",
   "id": "01c4a32a",
   "metadata": {},
   "source": [
    "10. Create a base class called \"BankAccount\" with attributes like \"account_number\" and \"balance.\" Derive two classes, \"SavingsAccount\" and \"CheckingAccount,\" from \"BankAccount.\" Add specific methods like \"calculate_interest\" for the \"SavingsAccount\" class and \"deduct_fees\" for the \"CheckingAccount\" class.\n"
   ]
  },
  {
   "cell_type": "code",
   "execution_count": 16,
   "id": "87060930",
   "metadata": {},
   "outputs": [
    {
     "name": "stdout",
     "output_type": "stream",
     "text": [
      "Account Information:\n",
      "Account Number: 123456789\n",
      "Balance: 1000\n",
      "Account Type: Savings Account\n",
      "\n",
      "Account Information:\n",
      "Account Number: 987654321\n",
      "Balance: 500\n",
      "Account Type: Checking Account\n",
      "\n",
      "Interest calculated and added to the account.\n",
      "Fees deducted from the account.\n",
      "Account Information:\n",
      "Account Number: 123456789\n",
      "Balance: 1050.0\n",
      "Account Type: Savings Account\n",
      "\n",
      "Account Information:\n",
      "Account Number: 987654321\n",
      "Balance: 450\n",
      "Account Type: Checking Account\n"
     ]
    }
   ],
   "source": [
    "class BankAccount:\n",
    "    def __init__(self, account_number, balance):\n",
    "        self.account_number = account_number\n",
    "        self.balance = balance\n",
    "\n",
    "    def display_info(self):\n",
    "        print(\"Account Information:\")\n",
    "        print(\"Account Number:\", self.account_number)\n",
    "        print(\"Balance:\", self.balance)\n",
    "\n",
    "\n",
    "class SavingsAccount(BankAccount):\n",
    "    def calculate_interest(self, rate):\n",
    "        interest = self.balance * rate\n",
    "        self.balance += interest\n",
    "        print(\"Interest calculated and added to the account.\")\n",
    "\n",
    "    def display_info(self):\n",
    "        super().display_info()\n",
    "        print(\"Account Type: Savings Account\")\n",
    "\n",
    "\n",
    "class CheckingAccount(BankAccount):\n",
    "    def deduct_fees(self, fees):\n",
    "        if self.balance >= fees:\n",
    "            self.balance -= fees\n",
    "            print(\"Fees deducted from the account.\")\n",
    "        else:\n",
    "            print(\"Insufficient balance to deduct fees.\")\n",
    "\n",
    "    def display_info(self):\n",
    "        super().display_info()\n",
    "        print(\"Account Type: Checking Account\")\n",
    "\n",
    "\n",
    "# Create SavingsAccount and CheckingAccount objects\n",
    "savings_account = SavingsAccount(\"123456789\", 1000)\n",
    "checking_account = CheckingAccount(\"987654321\", 500)\n",
    "\n",
    "# Display information for SavingsAccount and CheckingAccount\n",
    "savings_account.display_info()\n",
    "print()\n",
    "checking_account.display_info()\n",
    "print()\n",
    "\n",
    "# Calculate interest for SavingsAccount and deduct fees for CheckingAccount\n",
    "savings_account.calculate_interest(0.05)\n",
    "checking_account.deduct_fees(50)\n",
    "\n",
    "# Display updated information for SavingsAccount and CheckingAccount\n",
    "savings_account.display_info()\n",
    "print()\n",
    "checking_account.display_info()\n"
   ]
  }
 ],
 "metadata": {
  "kernelspec": {
   "display_name": "Python 3 (ipykernel)",
   "language": "python",
   "name": "python3"
  },
  "language_info": {
   "codemirror_mode": {
    "name": "ipython",
    "version": 3
   },
   "file_extension": ".py",
   "mimetype": "text/x-python",
   "name": "python",
   "nbconvert_exporter": "python",
   "pygments_lexer": "ipython3",
   "version": "3.9.12"
  }
 },
 "nbformat": 4,
 "nbformat_minor": 5
}
